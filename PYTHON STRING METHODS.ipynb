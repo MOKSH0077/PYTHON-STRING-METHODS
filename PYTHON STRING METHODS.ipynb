{
 "cells": [
  {
   "cell_type": "markdown",
   "id": "41f1edcb-1dde-49b5-9178-df29892f5c13",
   "metadata": {},
   "source": [
    "# DAY 2 OF INFINTE CODING"
   ]
  },
  {
   "cell_type": "markdown",
   "id": "fbe858d8-0896-4e0f-92a4-51629172b6eb",
   "metadata": {},
   "source": [
    "# STRING METHODS "
   ]
  },
  {
   "cell_type": "code",
   "execution_count": 12,
   "id": "d60087c6-092a-4392-af71-4a0a43826cea",
   "metadata": {},
   "outputs": [],
   "source": [
    "mystr='Hey how ARE'"
   ]
  },
  {
   "cell_type": "code",
   "execution_count": 13,
   "id": "093ecac3-6cc8-4da1-aa48-bf54467bae82",
   "metadata": {},
   "outputs": [
    {
     "name": "stdout",
     "output_type": "stream",
     "text": [
      "Hey how are\n",
      "hey how are\n",
      "1\n"
     ]
    }
   ],
   "source": [
    "# 1 METHOD\n",
    "print(mystr.capitalize())\n",
    "# 2 METHOD\n",
    "print(mystr.casefold())\n",
    "# 3 METHOD\n",
    "print(mystr.count('e',0,5))\n"
   ]
  },
  {
   "cell_type": "markdown",
   "id": "6178837f-041e-4b2e-b9fd-ba2bc74821d7",
   "metadata": {},
   "source": [
    "capitalize(): String ke first character ko uppercase banata hai, baaki sab lowercase.\n",
    "\n",
    "casefold(): String ko lowercase mein convert karta hai, lower() se zyada powerful hota hai special characters ke liye.\n",
    "\n",
    "count(substring): String mein given substring kitni baar aaya hai, uska count deta hai."
   ]
  },
  {
   "cell_type": "code",
   "execution_count": 14,
   "id": "ad8b28f7-cdda-4e0d-9743-db67c4a292d1",
   "metadata": {},
   "outputs": [],
   "source": [
    "mystr='HELLO my Friend'"
   ]
  },
  {
   "cell_type": "code",
   "execution_count": 24,
   "id": "a6c886c5-7ff0-4668-a79b-44729be2237f",
   "metadata": {},
   "outputs": [
    {
     "name": "stdout",
     "output_type": "stream",
     "text": [
      "True\n",
      "False\n",
      "6\n",
      "9\n",
      "6\n"
     ]
    }
   ],
   "source": [
    "# 4 METHOD\n",
    "print(mystr.endswith('d'))\n",
    "print(mystr.endswith('F'))\n",
    "# 5 METHOD\n",
    "print(mystr.find('my'))\n",
    "print(mystr.find('Friend'))\n",
    "# 6 METHOD\n",
    "print(mystr.index('my'))# SAME AS .find()"
   ]
  },
  {
   "cell_type": "markdown",
   "id": "feabeedd-b908-4972-9760-c8518b66438d",
   "metadata": {},
   "source": [
    "endswith(suffix): Check karta hai ki string kisi specific suffix (ending) se end ho rahi hai ya nahi, True ya False deta hai.\n",
    "\n",
    "find(substring): String mein substring ki pehli occurrence ka index return karta hai, agar na mile toh -1 deta hai.\n",
    "\n",
    "index(substring): Pehli occurrence ka index return karta hai, lekin agar na mile toh error raise karta hai."
   ]
  },
  {
   "cell_type": "code",
   "execution_count": 2,
   "id": "f7ab36c0-0e77-4ba1-afbc-f118ea90cb95",
   "metadata": {},
   "outputs": [],
   "source": [
    "mystr='999999001'"
   ]
  },
  {
   "cell_type": "code",
   "execution_count": 3,
   "id": "3b1e35bf-8430-423a-a92b-07bc72bbe91f",
   "metadata": {},
   "outputs": [
    {
     "name": "stdout",
     "output_type": "stream",
     "text": [
      "True\n"
     ]
    }
   ],
   "source": [
    "# 7 METHOD\n",
    "print(mystr.isalnum())"
   ]
  },
  {
   "cell_type": "markdown",
   "id": "e935e490-986f-4608-9c22-cdaff99e9aec",
   "metadata": {},
   "source": [
    "isalnum(): Check karta hai ki string mein sirf alphabets aur digits hain (koi special character nahi), True ya False return karta hai."
   ]
  },
  {
   "cell_type": "code",
   "execution_count": 5,
   "id": "319c7686-3a58-4099-9b37-9622cffffe05",
   "metadata": {},
   "outputs": [],
   "source": [
    "mystr='HELLO_World_people'"
   ]
  },
  {
   "cell_type": "code",
   "execution_count": 9,
   "id": "e6e0633f-c8bb-4bce-b6d9-2eb498f7f1c4",
   "metadata": {},
   "outputs": [
    {
     "name": "stdout",
     "output_type": "stream",
     "text": [
      "False\n",
      "False\n",
      "False\n"
     ]
    }
   ],
   "source": [
    "# 8 METHOD\n",
    "print(mystr.isalpha())\n",
    "# 9 METHOD\n",
    "print(mystr.islower())\n",
    "# 10 METHOD\n",
    "print(mystr.isnumeric())# SAME AS .isdigit()"
   ]
  },
  {
   "cell_type": "markdown",
   "id": "92940b84-6eb7-477b-98fa-23abfd9b0a85",
   "metadata": {},
   "source": [
    "isalpha(): Check karta hai ki string mein sirf alphabets hain ya nahi, True ya False return karta hai.\n",
    "\n",
    "islower():\n",
    "Check karta hai ki string ke sabhi characters lowercase hain ya nahi. Agar sabhi lowercase hain, toh True return karta hai; otherwise False.\n",
    "\n",
    "isnumeric():\n",
    "Check karta hai ki string mein sirf numeric characters (0-9) hain ya nahi. Agar hain, toh True return karta hai; otherwise False. Numeric mein kuch special Unicode digits bhi include hote hain."
   ]
  },
  {
   "cell_type": "code",
   "execution_count": 10,
   "id": "166048bf-8cdc-4ff6-b375-78e9a27c3c0b",
   "metadata": {},
   "outputs": [],
   "source": [
    "mystr='HELLO_World_people'"
   ]
  },
  {
   "cell_type": "code",
   "execution_count": 15,
   "id": "3334e91c-2213-49f3-b481-43583c8940cd",
   "metadata": {},
   "outputs": [
    {
     "name": "stdout",
     "output_type": "stream",
     "text": [
      "False\n",
      "hHELLO_World_peopleiHELLO_World_peoplee\n",
      "('HELLO_', 'W', 'orld_people')\n"
     ]
    }
   ],
   "source": [
    "# 11 METHOD\n",
    "print(mystr.isupper())\n",
    "# 12 METHOD\n",
    "print(mystr.join('hie'))\n",
    "# 13 METHOD\n",
    "print(mystr.partition('W'))"
   ]
  },
  {
   "cell_type": "markdown",
   "id": "b2e576da-bb5b-43ee-8753-5936390b4c7a",
   "metadata": {},
   "source": [
    "join(iterable): Ek iterable (list, tuple, etc.) ke sabhi elements ko ek string ke saath join karta hai.\n",
    "\n",
    "isupper():\n",
    "Check karta hai ki string ke sabhi characters uppercase hain ya nahi. Agar sabhi uppercase hain, toh True return karta hai; otherwise False.\n",
    "\n",
    "partition(separator):\n",
    "String ko 3 parts mein todta hai: separator se pehle, separator, aur separator ke baad. Pehli baar jahan separator milta hai wahan split hota hai, aur result ek tuple mein milta hai.\n",
    "\n"
   ]
  },
  {
   "cell_type": "code",
   "execution_count": 16,
   "id": "e81ba453-f1cb-4d43-9cd2-3de4e13de10b",
   "metadata": {},
   "outputs": [],
   "source": [
    "mystr='HELLO_Busy_people'"
   ]
  },
  {
   "cell_type": "code",
   "execution_count": 27,
   "id": "00ac71cd-e550-48c3-b4d0-699c132c9c8a",
   "metadata": {},
   "outputs": [
    {
     "name": "stdout",
     "output_type": "stream",
     "text": [
      "ELLO_Busy_people\n",
      "HELLO_Busy_peopl\n",
      "6\n"
     ]
    }
   ],
   "source": [
    "# 14 METHOD\n",
    "print(mystr.removeprefix('H'))\n",
    "# 15 METHOD\n",
    "print(mystr.removesuffix('e'))\n",
    "# 16 METHOD\n",
    "print(mystr.rfind('Busy'))"
   ]
  },
  {
   "cell_type": "markdown",
   "id": "a5f4a436-e38b-4009-bacb-a03f4865042e",
   "metadata": {},
   "source": [
    "removesuffix(suffix):\n",
    "String ke end se specified suffix ko remove karta hai agar woh suffix milta ho. Agar suffix nahi milta, toh original string return karta hai.\n",
    "\n",
    "removeprefix(prefix):\n",
    "String ke start se specified prefix ko remove karta hai agar woh prefix milta ho. Agar prefix nahi milta, toh original string return karta hai.\n",
    "\n",
    "rfind(substring):\n",
    "String mein substring ki last occurrence ka index return karta hai, right side se search karte hue. Agar substring na mile toh -1 return karta hai."
   ]
  },
  {
   "cell_type": "code",
   "execution_count": 30,
   "id": "2412afd1-b1b3-42cf-ae2c-32cbe625d998",
   "metadata": {},
   "outputs": [],
   "source": [
    "mystr='HELLO_Lazy_man'"
   ]
  },
  {
   "cell_type": "code",
   "execution_count": 38,
   "id": "540756fb-eefe-4f28-bfbb-135d157dc62b",
   "metadata": {},
   "outputs": [
    {
     "name": "stdout",
     "output_type": "stream",
     "text": [
      "6\n",
      "('HELLO_', 'L', 'azy_man')\n",
      "['HE', '', 'O_', 'azy_man']\n"
     ]
    }
   ],
   "source": [
    "# 17 METHOD\n",
    "print(mystr.rindex('Lazy'))\n",
    "# 18 METHOD\n",
    "print(mystr.rpartition('L'))\n",
    "# 19 METHOD\n",
    "print(mystr.rsplit('L'))"
   ]
  },
  {
   "cell_type": "markdown",
   "id": "f1b43669-b0f2-4d01-b841-b890759c2c47",
   "metadata": {},
   "source": [
    "rindex(substring):\n",
    "String mein substring ki last occurrence ka index return karta hai, right side se search karta hai. Agar substring na mile toh error raise karta hai (unlike rfind() jo -1 deta hai).\n",
    "\n",
    "rpartition(separator):\n",
    "String ko 3 parts mein todta hai using separator, lekin right side se search karta hai. Result ek tuple mein milta hai: separator se pehle ka part, separator, aur separator ke baad ka part.\n",
    "\n",
    "rsplit(separator, maxsplit):\n",
    "String ko given separator ke basis par right side se split karta hai. maxsplit specify kar sakte ho kitne splits karne hain."
   ]
  },
  {
   "cell_type": "code",
   "execution_count": 39,
   "id": "1cbba03a-fd8a-4ba7-90d8-fe8423d20844",
   "metadata": {},
   "outputs": [],
   "source": [
    "mystr='LONELY Man alive'"
   ]
  },
  {
   "cell_type": "code",
   "execution_count": 43,
   "id": "0ed21c43-122a-4faf-8359-538c91c37874",
   "metadata": {},
   "outputs": [
    {
     "name": "stdout",
     "output_type": "stream",
     "text": [
      "['LONELY', 'Man', 'alive']\n",
      "Lonely Man Alive\n"
     ]
    }
   ],
   "source": [
    "# 20 METHOD\n",
    "print(mystr.split())\n",
    "# 21 METHOD\n",
    "print(mystr.title())"
   ]
  },
  {
   "cell_type": "markdown",
   "id": "f6402fa6-e6b5-4c02-98ea-c430c732cc5b",
   "metadata": {},
   "source": [
    "split(separator):\n",
    "String ko given separator ke basis par todkar list bana deta hai. Agar separator nahi diya, toh whitespace ke basis par todta hai.\n",
    "\n",
    "title():\n",
    "String mein har word ke first character ko uppercase karta hai aur baaki characters ko lowercase mein convert karta hai"
   ]
  },
  {
   "cell_type": "markdown",
   "id": "c8895b99-1483-409d-9ef9-dd07d0e1bd29",
   "metadata": {},
   "source": [
    "# THANK YOU"
   ]
  },
  {
   "cell_type": "code",
   "execution_count": null,
   "id": "6dcb09e0-bdb9-4746-a7a1-f843ab398d2a",
   "metadata": {},
   "outputs": [],
   "source": []
  },
  {
   "cell_type": "code",
   "execution_count": null,
   "id": "8fb312f0-baba-43f1-b22d-7b6e29421d09",
   "metadata": {},
   "outputs": [],
   "source": []
  },
  {
   "cell_type": "code",
   "execution_count": null,
   "id": "93498d2d-5b6a-4f0c-a692-dcb2bb7af6c2",
   "metadata": {},
   "outputs": [],
   "source": []
  },
  {
   "cell_type": "code",
   "execution_count": null,
   "id": "3b12b446-78bb-4c48-aab6-8041ad1a31bd",
   "metadata": {},
   "outputs": [],
   "source": []
  },
  {
   "cell_type": "code",
   "execution_count": null,
   "id": "20103f3b-c317-4e27-8da4-8cb1f99fe7d6",
   "metadata": {},
   "outputs": [],
   "source": []
  }
 ],
 "metadata": {
  "kernelspec": {
   "display_name": "Python 3 (ipykernel)",
   "language": "python",
   "name": "python3"
  },
  "language_info": {
   "codemirror_mode": {
    "name": "ipython",
    "version": 3
   },
   "file_extension": ".py",
   "mimetype": "text/x-python",
   "name": "python",
   "nbconvert_exporter": "python",
   "pygments_lexer": "ipython3",
   "version": "3.11.7"
  }
 },
 "nbformat": 4,
 "nbformat_minor": 5
}
